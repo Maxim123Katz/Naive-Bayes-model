{
  "nbformat": 4,
  "nbformat_minor": 0,
  "metadata": {
    "colab": {
      "provenance": []
    },
    "kernelspec": {
      "display_name": "Python 3",
      "language": "python",
      "name": "python3"
    },
    "language_info": {
      "codemirror_mode": {
        "name": "ipython",
        "version": 3
      },
      "file_extension": ".py",
      "mimetype": "text/x-python",
      "name": "python",
      "nbconvert_exporter": "python",
      "pygments_lexer": "ipython3",
      "version": "3.7.6"
    }
  },
  "cells": [
    {
      "cell_type": "markdown",
      "metadata": {
        "id": "Uq_3t_tluNmU"
      },
      "source": [
        "# Naive Bayes"
      ]
    },
    {
      "cell_type": "markdown",
      "metadata": {
        "id": "Rum6hqi0I2V1"
      },
      "source": [
        "## Write your id numbers and names here\n",
        "\n",
        "\n",
        "1.   Yuval Levi - 325120384\n",
        "2.   Maxim Katz - 322406604\n"
      ]
    },
    {
      "cell_type": "markdown",
      "metadata": {
        "id": "TQVMUZkQHlm2"
      },
      "source": [
        "## 1. Classifying Digits\n",
        "In this part we will test digits classification on the MNIST dataset, using Bernoulli Naive Bayes (a generative model), in contrast to the Multivariate Logistic Regression (a discriminative model) we saw.\n",
        "\n",
        "The MNIST dataset contains 28x28 grayscale images of handwritten digits between 0 and 9 (10 classes). For mathmatical analysis clarity, and for matching expected API, each image faltten to create a 1D array with 784 elements."
      ]
    },
    {
      "cell_type": "markdown",
      "metadata": {
        "id": "Cjwjk6pzLE-y"
      },
      "source": [
        "### Loading the MNIST dataset\n",
        "Load the MNIST data set. The digits dataset is one of datasets scikit-learn comes with that do not require the downloading of any file from some external website. Use \n",
        "```\n",
        "mnist = sklearn.datasets.fetch_mldata('MNIST original')\n",
        "```\n",
        "to fetch the original data. You may set the `data_home` to where you wish to download your data for caching. Each image is already transformed into a 1D integer array $x\\in [0,255]^{784}$, and the corresponding label is an integer $y\\in [0,9]$.\n",
        "\n",
        "Plot a single sample of each digit as the original image, so you get a feeling how the data looks like.\n",
        "\n",
        "Finally, divide your data into train and test sets, using 1/7 of the data for testing.\n",
        "\n",
        "---\n",
        "**Note 1:** Using `digits = sklearn.datasets.load_digits()` will only fetch a very small sample of the original set, with images resized to 8x8. This preprocessing of the data reduces dimensionality and gives invariance to small distortions - however, we will use the original data in this exercise. Feel free to test the proformance of the algorithms below on the preprocessed data as well.\n",
        "\n",
        "**Note 2:**\n",
        "Since ML-Data is deprecated, you may wish to use something like this:\n",
        ">```\n",
        "from keras.datasets import mnist\n",
        "(x_train, y_train), (x_test, y_test) = mnist.load_data()\n",
        "x_train = x_train.reshape(x_train.shape[0], 784)\n",
        "x_test = x_test.reshape(x_test.shape[0], 784)\n",
        "```"
      ]
    },
    {
      "cell_type": "markdown",
      "source": [
        "**Plotting a single sample of each digit as the original image**"
      ],
      "metadata": {
        "id": "F5d_QPvxvyXA"
      }
    },
    {
      "cell_type": "code",
      "metadata": {
        "id": "05Om0QLxBvvT"
      },
      "source": [
        "from keras.datasets import mnist\n",
        "from PIL import Image as im\n",
        "import numpy as np\n",
        "from IPython.display import Image "
      ],
      "execution_count": 25,
      "outputs": []
    },
    {
      "cell_type": "code",
      "source": [
        "(x_train, y_train), (x_test, y_test) = mnist.load_data()"
      ],
      "metadata": {
        "id": "f5szf-anmUZv"
      },
      "execution_count": 26,
      "outputs": []
    },
    {
      "cell_type": "code",
      "source": [
        "for i in range(10):\n",
        "  idx = list(y_train).index(i)\n",
        "  mt = np.array(x_train[idx])\n",
        "  pic = im.fromarray(mt)\n",
        "  print(\"label:\" + str(i))\n",
        "  display(pic)"
      ],
      "metadata": {
        "colab": {
          "base_uri": "https://localhost:8080/",
          "height": 471
        },
        "id": "19miwNzkla2R",
        "outputId": "b0237955-207c-4a30-ac59-f14bbac96a1f"
      },
      "execution_count": 27,
      "outputs": [
        {
          "output_type": "stream",
          "name": "stdout",
          "text": [
            "label:0\n"
          ]
        },
        {
          "output_type": "display_data",
          "data": {
            "text/plain": [
              "<PIL.Image.Image image mode=L size=28x28 at 0x7F7C914D1C40>"
            ],
            "image/png": "[encoded data removed]"
          },
          "metadata": {}
        },
        {
          "output_type": "stream",
          "name": "stdout",
          "text": [
            "label:1\n"
          ]
        },
        {
          "output_type": "display_data",
          "data": {
            "text/plain": [
              "<PIL.Image.Image image mode=L size=28x28 at 0x7F7C8E9D14C0>"
            ],
            "image/png": "[encoded data removed]"
          },
          "metadata": {}
        },
        {
          "output_type": "stream",
          "name": "stdout",
          "text": [
            "label:2\n"
          ]
        },
        {
          "output_type": "display_data",
          "data": {
            "text/plain": [
              "<PIL.Image.Image image mode=L size=28x28 at 0x7F7CFC2B7A60>"
            ],
            "image/png": "[encoded data removed]"
          },
          "metadata": {}
        },
        {
          "output_type": "stream",
          "name": "stdout",
          "text": [
            "label:3\n"
          ]
        },
        {
          "output_type": "display_data",
          "data": {
            "text/plain": [
              "<PIL.Image.Image image mode=L size=28x28 at 0x7F7C8E9D14C0>"
            ],
            "image/png": "[encoded data removed]"
          },
          "metadata": {}
        },
        {
          "output_type": "stream",
          "name": "stdout",
          "text": [
            "label:4\n"
          ]
        },
        {
          "output_type": "display_data",
          "data": {
            "text/plain": [
              "<PIL.Image.Image image mode=L size=28x28 at 0x7F7CFC2B7A60>"
            ],
            "image/png": "[encoded data removed]"
          },
          "metadata": {}
        },
        {
          "output_type": "stream",
          "name": "stdout",
          "text": [
            "label:5\n"
          ]
        },
        {
          "output_type": "display_data",
          "data": {
            "text/plain": [
              "<PIL.Image.Image image mode=L size=28x28 at 0x7F7CFD330850>"
            ],
            "image/png": "[encoded data removed]"
          },
          "metadata": {}
        },
        {
          "output_type": "stream",
          "name": "stdout",
          "text": [
            "label:6\n"
          ]
        },
        {
          "output_type": "display_data",
          "data": {
            "text/plain": [
              "<PIL.Image.Image image mode=L size=28x28 at 0x7F7C914D1E50>"
            ],
            "image/png": "[encoded data removed]"
          },
          "metadata": {}
        },
        {
          "output_type": "stream",
          "name": "stdout",
          "text": [
            "label:7\n"
          ]
        },
        {
          "output_type": "display_data",
          "data": {
            "text/plain": [
              "<PIL.Image.Image image mode=L size=28x28 at 0x7F7CF181A040>"
            ],
            "image/png": "[encoded data removed]"
          },
          "metadata": {}
        },
        {
          "output_type": "stream",
          "name": "stdout",
          "text": [
            "label:8\n"
          ]
        },
        {
          "output_type": "display_data",
          "data": {
            "text/plain": [
              "<PIL.Image.Image image mode=L size=28x28 at 0x7F7C8E926CD0>"
            ],
            "image/png": "[encoded data removed]"
          },
          "metadata": {}
        },
        {
          "output_type": "stream",
          "name": "stdout",
          "text": [
            "label:9\n"
          ]
        },
        {
          "output_type": "display_data",
          "data": {
            "text/plain": [
              "<PIL.Image.Image image mode=L size=28x28 at 0x7F7CFC2CCAF0>"
            ],
            "image/png": "[encoded data removed]"
          },
          "metadata": {}
        }
      ]
    },
    {
      "cell_type": "markdown",
      "source": [
        "Reshaping the x data"
      ],
      "metadata": {
        "id": "ZM7Z7_fzvhUm"
      }
    },
    {
      "cell_type": "code",
      "source": [
        "x_train = x_train.reshape(x_train.shape[0], 784)\n",
        "x_test = x_test.reshape(x_test.shape[0], 784)"
      ],
      "metadata": {
        "id": "ipps3BGrttb2"
      },
      "execution_count": 28,
      "outputs": []
    },
    {
      "cell_type": "markdown",
      "source": [
        "Showing that the data is splitted to 1/7 test"
      ],
      "metadata": {
        "id": "2YPr1CiMvmhR"
      }
    },
    {
      "cell_type": "code",
      "source": [
        "print(\"x train:\" + str(x_train.shape))\n",
        "print(\"x test:\" + str(x_test.shape))\n",
        "print(\"y train:\" + str(y_train.shape))\n",
        "print(\"y test:\" + str(y_test.shape))"
      ],
      "metadata": {
        "colab": {
          "base_uri": "https://localhost:8080/"
        },
        "id": "rG_yQ9eBvDuu",
        "outputId": "95cd0683-2e01-4853-837d-f252d6502a16"
      },
      "execution_count": 29,
      "outputs": [
        {
          "output_type": "stream",
          "name": "stdout",
          "text": [
            "x train:(60000, 784)\n",
            "x test:(10000, 784)\n",
            "y train:(60000,)\n",
            "y test:(10000,)\n"
          ]
        }
      ]
    },
    {
      "cell_type": "markdown",
      "source": [
        "As we can see from the shape of the data, the data is already splitted for 6/7 trainning data (60000) and 1/7 testing data (10000)."
      ],
      "metadata": {
        "id": "yFSJH9KOpJa_"
      }
    },
    {
      "cell_type": "markdown",
      "metadata": {
        "id": "WTGjjSKaFfE6"
      },
      "source": [
        "### Bernoulli Naive Bayes\n",
        "If we know how the digits are generated, then we know how to classify them (simply choose the digit class which will maximize the posterior probability) --- but which model should we use for describing the digits generation?\n",
        "\n",
        "In this part we will try a very simplified model of digits creation (which is obviously not the same as the \"real\" model), using a Naive Bayes over an underlying Bernoulli distribution --- that is, we will assume that given a digit class, the pixels of the images are the result of independent coin flips, each with its own \"head\" probability.\n",
        "\n",
        "Note that since we assume each pixl is either 0 (black) or 1 (white), we will need to adjust (preprocess) our data accrodingly (see below).\n",
        "\n",
        "So, the model is stated as follows:\n",
        "$$\n",
        "\\begin{align}\n",
        "\\text{Domain} && x \\in \\{0,1\\}^{784} \\\\\n",
        "\\text{Prior} && \\pi_j = \\Pr(y=j) \\\\\n",
        "\\text{Likelihood} && P_j(x) = \\Pr(x | y=j) \\\\\n",
        "\\end{align}\n",
        "$$\n",
        "\n",
        "Where for each $i\\in 0\\ldots 784$ it holds that\n",
        "$$\n",
        "P_{ji}(x_i) = \\Pr(x_i | y=j) =\n",
        "\\begin{cases}\n",
        "p_{ji} & \\text{if } x_i=1 \\\\\n",
        "1-p_{ji} & \\text{if } x_i=0 \\\\\n",
        "\\end{cases}\n",
        "$$\n"
      ]
    },
    {
      "cell_type": "markdown",
      "metadata": {
        "id": "WNjhD3IpL5bC"
      },
      "source": [
        "#### Question 1\n",
        "Write the classification rule based on this Naive Bayes model. \n",
        "How would you esitmate each of the parameters of the model based on the trainning data? \n",
        "Describe in text (preferably math notationns) the classification rule, and explain.\n",
        "\n",
        "**Note:** Think of edge cases which may effect your estimator in an undesired way."
      ]
    },
    {
      "cell_type": "markdown",
      "metadata": {
        "id": "0pN1prGcMqwZ"
      },
      "source": [
        "#### Answer 1\n",
        "We classify the images into the given classes by using the Naive Bayes algorithm which is based on Bayesian Probability/Distribution. Therefore, We use Bayesian rules.\n",
        "\n",
        "There are many Naive Bayes algoritms one of them is Bernouli Naive Bayes. \n",
        "When we use Bernouli Naive Bayes, we binarized the inputs to 0 (black) and 1 (white). In order to deal with that each value that is greater than 0 gets 1 and all the 0's stay the same.\n",
        "\n",
        "The classification rule for NB is the assumption of independent set between the properties of the classified objects when their classification is already known.\n",
        "The advantage of NB classification methods is their scalability.\n",
        "\n",
        "We would like to find the probability that image **Xi** belongs to class c given the image and this is the posterior of the model.\n",
        "\n",
        "We model NB algorithm for the probability of a given pixels **PXi** (28X28) that get the values between 0 to 1 to class a picture **Xi** to class c that represent the numbers between 0 and 9  **P(c/PX1,PX2,...,PX784)** \n",
        "\n",
        "For each class we will calculate the propability to this class and the highest probability will be the value of the our picture that we predict: using MAP:\n",
        "**Cmap(x) = argmax(p(c/PX1,PX2,...PX784))**\n",
        "\n",
        "In  order to calculate this postirior, we need according the bayes law the prior and the likelihood:\n",
        "![image.png](data:image/png;base64,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)\n",
        "\n",
        "First, We ignore the **P(x)** because we consider him as a constant that doesn't matter us in the propability.  In other words, for each class, we will have the same propability.\n",
        "In addition, from our assumption of NB we gather that:\n",
        "**P(x1,x2,....,x784/c) = P(x1/c) X P(x2/c) X P(x3/c) X P(x4/c) X P(x784/c) X P(c)**\n",
        "This is why the model is naive, as not in all the cases the features are independent.\n",
        "\n",
        "Therefore, IN GENERAL:\n",
        "\n",
        "![image.png](data:image/png;base64,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)\n",
        "\n",
        "Second, We calculate **P(c)** for each class, the probability that we will see group c in training data by counting appearances. In other words, we count for each class how many times it appears and divide by the total sum of records:\n",
        "\n",
        "**Prior = P(с) = count(number of apperance of images digit) / count(total number of images)**\n",
        "\n",
        "Finally, the likelihood is: **P(PX1/c) X P(PX2/c) X ... X P(PX784/c)** and we can log this multipication to make the calculation easier:\n",
        "![image.png](data:image/png;base64,iVBORw0KGgoAAAANSUhEUgAAAmkAAAAjCAYAAADPLZ3xAAAAAXNSR0IArs4c6QAAAARnQU1BAACxjwv8YQUAAAAJcEhZcwAADsMAAA7DAcdvqGQAAB2bSURBVHhe7Z0PbBNXnse/e7tSTlTn3lbnqL0johFpe4opKmYxa5QDoxVJrkBSksjtJg090tBLFroJRN1kszQsbUkpJW26myxbkmVb0hxNipZN2LZxS9fubRRvRWMQxdkDnN2CcwLFJ1AsgWKp1dzvzYzjsT12HGfSGHgfyRnPeDLz3vv9eb/35r033xIIcDgcDofD4XBSir+TtxwOh8PhcDicFIIHaRwOh8PhcDgpCA/SOBwOh8PhcFIQHqRxOBwOh8PhpCA8SONwOBwOh8NJQXiQxuFwOBwOh5OC8CCNw+FwOBwOJwXhQRqHw+FwOBxOCsKDNA6Hw+FwOJwUJEWCtAA879ai7FUn/PKRpLjuREtZLXovBeQDnNsTH2x1K9H+hbybEAG4flmG2nc99E2FsX7UlrXAeV3ev5PQyG4Co71zUIZc1lqgjWw08tNRJCNjL/rrytAyGCMld7I9pwCprW9J4rOhdmU73PJuYsTX08DpdpTV9cJzUz6gBnstVDTnhI7yUqG0dJ1gyswUNvzmnHx8brjcXyOYtvQIl+X9pLgxLLQVmYS9f5qUD3BuX8aFvm2ZQptL3k2Yy0LPFpNQ06+uaZN/2iuYitqE4RvygfniyoDQxOyvaLWQSfbXdHJC/mEO0MpuvH1CjWmL0POlvK8Zt6esxweahFKScbElk2TcJNjnUMRayUYTP61KkjK+MSTsNRXT/6nrbsrYcwrA9U0DrvQJVZmkT/Juwkyjp5ePbhFMO/ti5jNGkEYKPjEh2PczgWbObeBDAq3KLBY63PJ+UkwKw69tEEy77MJc6h4nVUi24ibcHUJxZiwHQjq/yySYXh4ijZpPJoWJiYtCTxWzv9I5CHyCaGU3l0V5FM9JY+42lfXkhDBxvod8H8m4fC4rIo1ko4mfjkXyMp442SSYTHuFIdVALFXsOQXg+jZ7kg3SiPh6ek7oKMoUthxVl0rMx51pugn4/8q+FWD5Q2niMe0JwPnOXthKtsKaLR9Khkt9aPslsPWHFujkQxyOKtlWbC1xoKXTodKFroPlh1uRfqgFXSPyoXkhDTqdH14bfdWvgmGRdFRzNLKbwGAX9n5A5brJIB9JEeZc1sk8ppNJ00Hn90IUsdmADOmo5mgjG4389Byg+wHlTd+JlnfVHkJpIOOkHnF9c7gPrkTtBz55Lw5c3+aV+HpqgPUZKxyvd8Kh8ng49pg0/yiGmURzViFbLx3SHKokOg75UFkwm0qCBNrbAkdOOfJuE4Fy5hJy3AWV8HUfwcAl+ZCS7DyU57jQ8b6TNGseGXHBwbabjMgSD2iNVnbjRd/hTvieKYTlu/KhlGHuZR0IUAX5lbwzQ9xnRQmj8OG5kbBmstHET88VBuQ9aYbrzQE41YQ4Wxl/HQAT8bz6gjgEvvIh8LW8Mw1c3+aT+HqqsxSi0teFI5945SMhYgZpgbND6KKtwTJ3Ubf31ABVROVYtXQWPXUBF4aO+eY0nZzbi7Slq0jrHOhzRhsESIuYLvkO2uGaR8/sPWsXW+/lKwyYk35srezmkhMD5PvnLJ2zJHVl7YXbIUp4dv4vHhrJRhM/PYdkLF0Lg68d9lNqQkwNe55/uL7NN3H1NM2AVWWAo99JkgonZpDmueAUt+YHVaJunxNdz1egpLgMZWW5yC1uQOfnKrMXxhxo/0mJeF5JcQU6bQ70HuqFS+zS82HESRLNzoA+Mly+6UbX9hKsWbsSuY02eH0udP6E3Ysdq0CzMtq84EIvtXSMi1SqGrp/c0Uu1qxcg4pDLvhG+9G8VUrzmvxadI1oY7XeT5pRkb8GKyltnad98Jyg/TK6Dx3LremCO97MjVuUlM3z1z44396NiuISlG1mso7QF4ZOj4xswOkeVZ01lLHISH+doJ/nCT9G3cz+zDBkRRqHHx5bOxoofyWUv5L8XFTs61edHeT/ohe7t9J5JJcSstFehw1dbzvgZWqvkd343EPkUCnQuy+6zTvnOnIry9o/CvcgbXMMWBxZdBH5ys0vQQPJITr9friPyeeRbyxp7IXD1oUuKgMmIW1kE8dP013cb1ejZC1dJ78BtjEfXIcaKC2kb3SsYh/pmnxm0iQi44VZEKV4wSPtRzD/9pwCcH2bW5QxEdPTrc1wjMm/BYmrpzroMw3AoBujkQUvj02L4LLQU64+C+TyySahONMk1By9ODXYmM1OyMwsFtrOhoZnTrrapPN+Jw+GEwcCsmua6Dx2YFhoY/s7B4Rx8YQQl9/bIg6iu9xfJU5cyDTVCD3npbtNDNSL9woOKBwXzwleU8mkMLR/tTjpYfgX7L70KTog2OWbnXtzA12X8ndN2k+aySHhgIUNCJTzQ5/i/XZh/Cv24zmhY33m7TehYd7zHGOgsdcuNBXRvXf2CBfZzVn6Sk2UPkpr2MjhcWFgJ9OrNkqtCmfbxFnNNe9HauY3BJXvXlau6zvC03eDyraS8qPQY2nmEMtzuB2JM6OYTZ6SpDB56oCwQZRVjTBAJ2plN9I50jXD0ExHUlnWyQ94ZzMPWZlEzZyPzBfjyx5hCyu/X51TDIC/LPTtZLrQJgyL50mTQER5ybqgjWzkc1T8tJguNvtO4dun6oVrA0I9u25CA8hnK+NzQhvZgGoaGbOR8SwGi38TMBlX9U+fL65vGhBDFyJjIhb7lDJ9jJqwEl9Px9+vEfMU6ZPVe9KCUXfe8vCoe6QTO7Z2wftMK155ImvqeXHGQ8vprwstJ+VBcVdtqK9qgevRn+Fnm+SW+sJsrPoe+1II44O08fsxznbv1yN8yJsbtrcCyDdnwO+TQtHyV16B9UHpbrp0dj0X+v4s3WtcPMeIjMhxc34nBg7mYe2KAPzijczYs78OFvm89PsWUvTbBbtLEbZSNNzb7aRYPnH8gwNoz1sL41dyfnL2YN9zFui/zXbSkX4/XbbbDvE2rIdiO0XZxawlUIF2Z3Rb5VZgRnmOQ2CkCw3bd6PlUDNqqYU8q/IIuNFeU4GusUq0vmiF2AE16sQRpw/6vCVYGNZzTjpHaYRvHD61W+ozxBbP6FUxd3HwoLdGbjnN4NNwYpr23qib2v3ED4zULg3ih+Nl1otgwL7XQnqMBVlYsoKycvz3cMott8AX7dhR04/0HY2o/J5kN2nZy8U8BceYamM3fvmcB6CPuM7MdYT1EHbBdiGB3u15kbW2BJ9UWJYqB1i70RmZL8aiLIge9tUBeQB7AO6DO1B7PB11uyphFM9Lg2GZKGGYV2RTrjWSTUw/Tan9pAuBXDMy6Eai6j31Sqhe+K5efIzu+p1TTLNo60z/81diDevVna5Xa0YyTkcG2QDOe6W0RjJPMoaP7Pi0lyQxDYmeNwvuNH2LDeuNa0D18y3o3FeLsq3ts1rLTfS1ETGR589H4PTpkffQwojHvvH1VH/fA/TXh/HxcE34jrwN58KwNB5txWLFeBUf+n/VTOGRAY0F5rCbB25MSF9Gx+gsAzxdTeinSMe6kQQh/UL/Porhz2n76BJksX++LgsjCgPK/+sw0nR0Pxcr7jws/9fQ3XxXLopb9w3JmQdusHOo4ohEZ0bdGTN0aWTsH9E+myW3WPqJMT7mkrY3A/B9QkHCux4qXQecdzXiRJk5SkFiocupw5kcHdJG2jFA+/oVBsVA73F4T0lb/00vepvacPez3eheNo7+uhIKTGqhtx+Gda5m780RieeZnEDpRjRHzqxatg3dv82H+8A4rG17YFxAx550onltE2x/aEVeWOGzGXQb0GY4jBMVsWcMeU+0oOU0aU9DIczseoyHt+Gzv1SSPwk3lRAsjbQJOqcIgjoWmyxY3+iGVd7TCu/5YdHRlC8NlWrgdBdausmoSh5Hfpi+TGJStGk2LIA2C73oe50aSMxOKcibyjkFfpKssiRnpoHdMPwxHNxMdKRrewvs5Hbdgx7kdxQi78FY8pL45mVNadzcLOYjEt95ks2VMgzdJR9QYHzmMOpy1NLjxegpUcJYzhqsMr4TbWiOzBcjEIDkYT0Yu0rXDfSh5VWSQ3YjLMtC1/f8RSxprHqISdingWzYNpafpnQ+0Y3DaTr4PpD0Nc+oGIvk80H01CMBBG460bJtGKu6ulFwjwvt5SVoKNUh478bYY4hrqRkzO4lf1Ujroy/6EIZBSVRfO2jUg+gefNQRIXLMGL7r+vCZRUkQHneUIZ2sknL/k9xuCRUk4aR0Hk+OF6qRccFeVdBgNp73jQKNt6TDyjQF+xBawmT7B2mbyOd2LihOSpYM1bT/693o+WaFQdflHxj+WAzVr9kwx9a8sLr/Ks21Ba2YclvT6Ay5sQqha9VxESG6s/wl4o4rmgaPQ361iCqPWleD3PEeuQvU1SKV5348APa6vNhjEh0MErXU+Sop6JxHWO1RR5WGUIeMUAVTz9tDcbF4YWhQpqOchfw4By7X85aLLtXOk4H4TnLrgIULI6h9FOwZQzoOpc8GGLJ2aTslfDCTS0ylsclLGL/QSO6O8ihFkm/zgg2tZlu4z0/RGoKFCrL7JJburd+CRZfs6HLwcqDCSADBU9uprs70PVJpCrdAiSa5wU+eO/fh4/OnMEZ9hk+gT15FjS+uB3mmxS0O3zwBfVxwUIsMY5hPMLQvSf2ouk4u2A8fDjtcNCWdJYcQBgxLSVVCWDsPJtWTY0Thf24B49IjunfjOFxRrDXm87PuI82V0/DzooCljA79bolWeVnh9yjOonbTVwS1ZF7qVF25DAO798u9fRNy3zImqWRGldRn1Zsp5axdZfab90xAjQiMIZzTMSPLkdIxD44beICCdH5CvasUnktJF/oO2snz0GE9bQGZZMfFlSrkrBspEMxWUAV77fJJ7tZus1YuzSkE0F/j01Z+EfnADpZEMtsfYER1v/Io0x0YiDW2wLmQ8YPl6vKsLuF6aUVjWq/HYkRoDHSsrBkDdVRejOWL06XD6qQ0Hl6WGLoWCPVWcZtraq/SQEacafp2xUvFu7/SKpz2KdvD/Kojt+zzYzA6DAcV3xTQVLa/Utg/HJcDkqDeNH/qtTRFJegr1WJibRUU5UgzYeRU0xEcuHf9EtTfCnjrGjCnTYjOGvEgM059MtVUgiWuezlWKxoqHu+6KO/pBBBAVGBx1FdijZdEP8jbE0Xj1whWSgAlASUdld4aiJhCsZyU7A0KxR1Xx+Bi11Hb5Uevc4aciqD4l3C1pTz/49LvLe+xIis71DlpyeFHHRL3dr3SV3w7r9RC4Tt33IkkOdAGrI2mZGlIyOlj/d4M+zfr0N5Np1/LwVl+l5U55eh2eaFb7AXH967HRalPMb60W7zR+ibGl54WUCfiMMIIx26WE6WMNw1naXNxeNOD1zHacPsh5xWwE/2R2U9dp4ZVbhjYgRnYePRf4eZObmgnZYtV7RWgzYdCvy0sRvS6bhT7RPQEenQDJgvWWvIBcm3SQ3WAPx+VmUE81UY5fCDM30NT5pFW/B+KUo4rKcVvhHyLbSdqog1ks10fpo1ypm+sh5XRQ+vZ4RdhTy1ORv/9O00ZIycxodnJb3XL1wibl2XYtlBkjImvxJPit+ojEmyefs/xV8/68Y2Re9TNImeNwvuMH37hwVZeHxFlljn6HRe9O6zY9WOchjI/pnu6Y9VY11ZM2yXKFA9+iHSf2QJ80PeE+340D99rTPla3OVPYMJMI2epi8I/zU6SAt4MMwKQRyPRhmsqkYfewB8j56qCIIUXXmJwOe96CJhGXfsQSVTsmAh35+uKGyqeCKjbp0e6ay++dJH4otmKupWrOkSOO1A3wjd67k6FMoCSr+XXdAlPeqJIhR1B4M6hm/w9+gldS3YvTlmd3sYAR88o6yyjMFUr59yTTkfHCd6SSsK8EK5GWkPUkvts8/Q/axZ7AkJ/O0ipZqUyrBwqmckcNUDz/WYdyH88J52wq2aVxm/l8raDR8LrGORwBiIadOSSJ6pdVj+AynEZs/um52FaHwq2EVtROVvG2HxOdFZvQYrN/vw2I8tioCcdG/vH7GqYbs4PiI+euhz2JYq4mBhTuGF85iT/iohnfuSbdXOJ3xUhrRZqI/vLoKPO9VasfE++zaGchlFsGXJWq3sUcgjbXAFdORc2I86/H2YvpKTeLdTLO/WhgIqBYKacKJ7SScHxbaMm3RNReDH0MZuKF3/zH6/yJ42RJOIjshHE2e+ZK0dwV5NNj4oMNiCR37lohIP5uvu8Fb4TRd636EKaFkd9jwtPaIJBtjp94QyFKBrhj+p0Eg20/hpZY/rlKcOuODop2qe0lxHuq6zNOLTv36Kg/L4ZO/oMP01wPxgLDuYqYzlR2ZhdY6CeZBxKnGn6ZveXA6LGB+wsXTNGNrUKHUMMJZV4nCDBT5nJ6rXrkTZ9cdQJ9dRIpd60exYhcb/nL7WmYqJlL42yJgTvYORjZD4ehocyqUsZ0Z0kBYcuJe9EBls3ZPvFMLMMrxoLTZvotKz2eEKTpcd60f9tnb4S1rx+o/k8S86I9aW0XlfjkvX+ZoE8WoDdodF3YwMGHJpozqILtjyB5yn3FJw5Heh86UWjG+ie1WHnkXr719C5h492E5C7pWgWN3ukguM0rz3JRsFlQfxyqNT2hIHNzqLVyJ33SOoPhZZ6DJySwWDdpyWB297j+/F3g+MqPv1K8iL6salyrW7nSriRtQVyKo20omSVbnIXV6NXrWFNwnvsVqsKS7Dxg0t6gs30nV7a9egpGwjNrwWY/FGcQzERnHyQm2s/CSQlpnl2Qfbmy3QFaxVtDjIgD4dAir2YR8Frnqq/qvzd8MhilEyLndJHQpUhk1Fk4G1T7AgxU7BZyjXgatOtG99Eh3+yNYZGct52mySxmdF4h8fpxQn8EhvLvCzMTDURsrKQOCUHbbqtTCSFzWur6Ow1oYPp9b78sP1yx2oPWVGXfsLoXLKNqNwGW0p+hKL0u9B7/P1Ym+bPi/UC66V3WQ8mE9/R9WDvRnbRSLc+rL2XxcljAcWBuAatGHbGuY7g/kagP1zOV9fe9H/fDXab1jR+sY2aewmYfh+odgL75Vl57/Qi/p6UcJhQ1S0kU08P02WTZW16KkHh+RlFEgvDzWjxUcNB0qzIeiog7Ag4C0HjE/VoTwnqmqTmaGMyWbGKY96g/pQmnm15xTgjtW3qza0varDYzmhWoc1WB1/Bir378M2M+nDu9VYt0d+IwmbrPKqG4/vKECGOKlhGoIxkcMZiomo7vI521FR3gH/PRGh2DR6On6VzaYpQFZEnRcdpOkt2PwcVZqODlQ39mH5s4VUbOIPyHuxG605bjQUyeuk7BnG8tbP8Ol+ZaZ0sPz0MPYs7sWP8stQYq3HwFWp5MLHo+mw2EBx6Ig3etYVRd1ib15OJSxXGrCxrAy51jaMFxzDxy10L+ksicXUIqONatd5sFfiiW3IOvY0SjaXILfyj3jghY/Q/awcVE5LOjIeklLtcJwmY48m2FKxVmehp5LKpjgXTzsewAsfq3Vhk6FQ5XpE34ruNyrFLliRezKwWLyNA/azanehlDy0CkyvMtZEzm4Kkk4GxQIeMkBD5MwSmUTGQCSQlhnleaQPHR8Y6H4h6Qecbag+uRzbd1ph3dGNj/saYaFQoudTHwKnO9E2/jgqlS2cadA/+gqVpxHDO3PF9cPY2jm17R4Ydp3A4YqIxRXJWLwjUtd4KEUhvJeo3a3Zo/AZ8jC1Kksy4OpvQvVLfjT+UGphpj28DYd7G3H3O08jl60LVFxBYe1WfMTKW57BKWFA5RuHUfl/zdjI1ifcwnri7hZ/CRuPppHd6LLYddzwXokO9mZmF4lzq8vasPEFWBe58PuXqrH7WiOscne+lC8qzV0bpTXwrLsxvLQVn53cF95Yya7E6x2VGN9H55Efrmh3ISCqQPjjQW1kE8dPky+TxgibyVZ9VC+QLPJLyHYLcWygVaWBxYKAHXCvP4bDu5W95tHMSMZj1Kgg6VofUei3gnm15xTgTtU39wcdsCmeHrD/d7ZXw75sO+pKrKjr/hgndlmAt3vguEr18iGKMTZRzBGlt7GQY6IVw9ixnvIk6mkt2i4YsKePfHCw9y5IXD31w/c3NzkqZU+jjLwURzSTkxFrfCTPud+w9VRM0evgyOuxRL3AXV7XxvSLRFanYes6mVRfGiutO5LYOjIMcZ2XyLWpZCY9PUKV6vom8jpMmVVC3xX5UEwmqSyqhKr9Q1Jarw0LPQMXFeU8KVw8WjV/63OFES8tM8mzIFw+Wkrn1gsDijXpxHW6ptbGkRh+LVMofuuicO6tUqG0PPgpFlYzXcij79t6hIvimcmvT8WQ1gyK9eJtaY1AE8lIK/1Pihta3Z29ZFpNVlrZDZXXFrp+1JpAM9MRaQ2iTKHppFIjGKks61mmTfVly0kwYReaqOwyt/VRipRoJJtYfjq47pMpkXXELgv2n1cJ9e/Ja2957EKPvIbfbMtR9C+mAxFrpwWZpYxvk3XSGHeavolrvT43oKhjJD0L9zHDwoHMYuHI+XPCkak6hz5Fqym9JmFdaalQdVSqdWarC3H1VF4bc8t70S9ZV53dKZIWf3CbOhTp2rrQ+bZyzABFj2xiAWvJRAxQxKJ8bC7To7M//AXIwah7+plojDSY12+FcbALtrClHoJRd3gPTrIEPC6MGdjs1QiCvX5hEbs63hP1qHAuwWM5FFQ7nXAc70DX/wYU5RzAqGssRbrl46RlBnlmLQRp9XzSJ0UXsv6hVTB2DyjWqPHC84UF+SsyYHhKOYaLWn70a7q1Ed1t1pkN0FTFD0d/J/TPbJ0a1xjGiA1dgxbUWZMZL6UhEYNHE8MP17FOdB6Xhwgwbrpg76atRTlLmqGV3WQgv6wc+kN94S8HnpGOzBVzLWs9CvafQSV7vJwEaXEmMsTkugu9hzrRr3jrQ8BlFx9nWyzLIvyTRrKJ4aenelynHTgtPT1oDqxF4b+QjpLv63+vBe7wKXVJ4obtHScsO6zq44tnK+N7C9B6plJ83JeKGJ85g9aEhu3cSfpGBGe9hw240yN7hRFdNmfoupc8cFvyYVwUMYN7l1jrwPqzbhx8Yva1znR66nf0oVNfia2PqvQvy8GaNrg7pFXN2YrkYrA6IZx7k72NYLVQ/350hCgiRs2hNwgEo93MzNIYrV81JoWhl00RK5gPS1F31OrUKpw9IkbPxRZ2/mqhmL7XvCdHzyLnhI6iGK1xl9TrF916iOD8EaGYnRfxqR9QRPVUfsVsRWV5d16Jl5ZE8ywit6KmdCLExKkOoYbKtf61vUJ9Zb3QZg+/2/jJvUJp6TrpXpZiofTHGvSksXyxFp1X3g+D9TqZhA2vDSfX6p5nJk42SXpVdEQqp68uCwO72BsCSqmsVJtvs7ObKaQWdNhq3wnryLhgf5FarrKcxR7TcmptTrX6uaxDBHtFpR5nEe+A0MRWbC+lFr5qT8lsZKMgyk+TZOQ3wpQeje+xJuxN0v3CPhuifH4yMmY6b1p/IEbeb217nn9uTX0TGR8Qauhc08/Dn9awPA2/WUN1W71w4OV6YctP2wR7mH+Q/VEee7NFprC6SBELzKInLb6esvgiU6gKvp0pAm2DtEmqFF7eIqzLowpV7DKk7XNtwoD8SqdYiK+wYQGBSiAT9RqLWLBXThSZxC7SSXIKymuwT/RjlMS5+M4WoSqqG3JSsP88/B5qr9FKnIvCkS1VMwhM55JYaUkyz5MTwsSElm4yWafOHIhJqOlXNwb2aMzEXnuiaki3ANeGhY7nisn+WKBDjQ6yv6pdR4SheE9DtLIbb59QY2INGa3tgstayYSrQ6gvWic+hmFDAYqLqoSmt4bkV+zEQCPZTPlp5h+oUgm7ToxhIomRpIzFV6IV0/+p+5Zb3p5TgFtZ3yYnqN7RstpJNkibRk/ZazVNO/son+poG6QlDRv/VCOU7h+KiHpnyLUh4UBpjagcnNsZ1jun9t7JeLB3UVKr6KhyDKAC5lhKDwhDs32X662IRnbDxm1qX4Zc1lqgjWw08tNRJCNj9i7JUuHAn2Kk5E625xQgtfUtSVjvXKx3AMckvp6K7/lk702N05D4FvsjP/nkcDgcDofD4aQIsScOcDgcDofD4XDmDR6kcTgcDofD4aQgPEjjcDgcDofDSUF4kMbhcDgcDoeTcgD/D84SxCPXpuWNAAAAAElFTkSuQmCC)\n",
        "\n",
        "After we calculate, all we just need to do MAP function: **argmax(log(P(Xi/c))**."
      ]
    },
    {
      "cell_type": "markdown",
      "metadata": {
        "id": "nOnkgDIXTMCQ"
      },
      "source": [
        "#### Question 2\n",
        "Run a Naive Bayes classifier on the training data and apply predictions on the test data. Use the [sklearn.naive_bayes.BernoulliNB](http://scikit-learn.org/stable/modules/generated/sklearn.naive_bayes.BernoulliNB.html) implementation (see the [source code for sklearn.naive_bayes](https://github.com/scikit-learn/scikit-learn/blob/master/sklearn/naive_bayes.py) for details).\n",
        "\n",
        "Remember we need to preprocess the data in this case such that each pixel would become either black (0) or white (1). For this, use the `binarize` parameter of the implementation. Set this value to $0$ (this is the default), which in this case would mean every pixel with non-zero value will be set to 1.\n",
        "\n",
        "1. Plot the mean image of each class (estimated $\\hat{p}_{ji}$) and generate one sample of each class (remember, you can do this since this is a generative model). You will need to access the `feature_log_prob_` attribute of the trained model.\n",
        "\n",
        "2. Plot the confusion matrix of your classifier, as claculated on the test data (it is recommended to use [sklearn.metrics.confusion_matrix](http://scikit-learn.org/stable/modules/generated/sklearn.metrics.confusion_matrix.html)). Calculate the total accuracy (fraction of correctly classified images), and summarize the results in your own words.\n",
        "\n",
        "3. Think of a way you can find the optimal threshold of the binarization part. **There is no need to actually perform this task --- just describe what you would have done.**\n"
      ]
    },
    {
      "cell_type": "markdown",
      "metadata": {
        "id": "ZKdsdegDWaO_"
      },
      "source": [
        "#### Answer 2\n"
      ]
    },
    {
      "cell_type": "markdown",
      "source": [
        "*Import NB*"
      ],
      "metadata": {
        "id": "-hy3Ihci6X6H"
      }
    },
    {
      "cell_type": "code",
      "source": [
        "from sklearn.naive_bayes import BernoulliNB"
      ],
      "metadata": {
        "id": "8CITm6y05KG7"
      },
      "execution_count": 30,
      "outputs": []
    },
    {
      "cell_type": "markdown",
      "source": [
        "**Running Bernouli Naive Bayes Model**"
      ],
      "metadata": {
        "id": "0Bx-rNqr57xT"
      }
    },
    {
      "cell_type": "code",
      "metadata": {
        "id": "XalqjRWXWS-Y"
      },
      "source": [
        "nb_model = BernoulliNB(binarize = 0)\n",
        "nb_model.fit(x_train,y_train)\n",
        "pred = nb_model.predict(x_test)"
      ],
      "execution_count": 31,
      "outputs": []
    },
    {
      "cell_type": "markdown",
      "source": [
        "*1. Plotting Mean Image for each class*"
      ],
      "metadata": {
        "id": "jsVCS8fn6seq"
      }
    },
    {
      "cell_type": "code",
      "source": [
        "import matplotlib.pyplot as plt"
      ],
      "metadata": {
        "id": "ZWfgl0fFBBR6"
      },
      "execution_count": 32,
      "outputs": []
    },
    {
      "cell_type": "code",
      "source": [
        "\n",
        "fig, axes = plt.subplots(10, 1, figsize=(20, 20))\n",
        "for i in range(10):\n",
        "  axes[i].set_title('Class:' + str(i))\n",
        "  axes[i].imshow(np.exp2(nb_model.feature_log_prob_[i]).reshape(28,28))\n",
        "plt.tight_layout()\n",
        "plt.show()\n"
      ],
      "metadata": {
        "colab": {
          "base_uri": "https://localhost:8080/",
          "height": 1000
        },
        "id": "dbomx_oX6yb1",
        "outputId": "69139072-ab83-441e-b8a0-b74864840b3e"
      },
      "execution_count": 33,
      "outputs": [
        {
          "output_type": "display_data",
          "data": {
            "text/plain": [
              "<Figure size 1440x1440 with 10 Axes>"
            ],
            "image/png": "[encoded data removed]"
          },
          "metadata": {
            "needs_background": "light"
          }
        }
      ]
    },
    {
      "cell_type": "markdown",
      "source": [
        "*2. Calculate Accuracy of our NB Model:*"
      ],
      "metadata": {
        "id": "oERG_l64GyYI"
      }
    },
    {
      "cell_type": "code",
      "source": [
        "\n",
        "from sklearn.metrics import confusion_matrix, accuracy_score,classification_report\n",
        "\n",
        "print(\"Confusion Matrix:\")\n",
        "print(confusion_matrix(y_test, pred))\n",
        "\n",
        "print(\"\\n\\nAccuracy:\")\n",
        "print(accuracy_score(y_test, pred))\n",
        "\n"
      ],
      "metadata": {
        "colab": {
          "base_uri": "https://localhost:8080/"
        },
        "id": "w0YELX-2G_25",
        "outputId": "3ca815d5-b5f0-48e5-dd59-9717299a09a1"
      },
      "execution_count": 34,
      "outputs": [
        {
          "output_type": "stream",
          "name": "stdout",
          "text": [
            "Confusion Matrix:\n",
            "[[ 887    0    4    7    2   41   16    1   22    0]\n",
            " [   0 1085   10    5    0    9    6    0   19    1]\n",
            " [  19    8  852   29   17    4   32   14   55    2]\n",
            " [   5   15   34  844    0   13    9   15   49   26]\n",
            " [   2    6    4    0  795    4   21    1   23  126]\n",
            " [  23   12    7  129   30  627   16    8   21   19]\n",
            " [  18   18   15    2   13   35  851    0    6    0]\n",
            " [   1   24   14    4   15    0    0  871   27   72]\n",
            " [  16   23   13   76   17   22    7    6  758   36]\n",
            " [   9   13    5    9   74    8    0   24   24  843]]\n",
            "\n",
            "\n",
            "Accuracy:\n",
            "0.8413\n"
          ]
        }
      ]
    },
    {
      "cell_type": "markdown",
      "source": [
        "**Explanation:**\n",
        "\n",
        "We calculated the Confusion Matrix between the test's classes and the predicted classes that has been returned from the classifier of our Naive Bayes Model. \n",
        "In this case, In our Matrix we got good results, because of the big amount of pictures classified in our prediction correctly as the test's classes. We infer that by looking on the diagonal. However, in certain cells (all the cells outside of the diagonal) we got a big number of error of the classification. There sum is the total amount of errors of our model. In other words, when the classifier NB predicted class B instead of class A. \n",
        "\n",
        "In some reasons, We can conclude that their is a similarity between the classes that have a big number of misclassified pictures. In our Matrix, we can see 126 pictures that misclassified instead of the actual value '9' the NB Model classified the pictures as the value '9'. \n",
        "\n",
        "In conclusion, We can try to improve the NB model by given him more example to train on them and distinct between each class (number). As a result of that we can improve the accuracy and make it bigger.\n",
        "\n",
        "For the accuracy measure we have got a score of: 84.13% Which measures the number of corrected results divided by all the results (positive and negative results both in the prediction and in the test).\n",
        "\n",
        "\n"
      ],
      "metadata": {
        "id": "pQwwYY-sJAqO"
      }
    },
    {
      "cell_type": "markdown",
      "source": [
        "*3.Think of a way you can find the optimal threshold of the binarization part: (hyper params tuning):*"
      ],
      "metadata": {
        "id": "9nQqC1rbKZgO"
      }
    },
    {
      "cell_type": "markdown",
      "source": [
        "**Explanation:**\n",
        "\n",
        "We thought of a way to improve the parameter of binarization by calculating the accuracy of each threshold from 0 to 255 in intervals of 5 for each image. \n",
        "\n",
        "Due to that the model can only have a single parameter of threshold for all the images each time and calculate the acurracy of our model.\n",
        "In the end, We choose the threshold that gave us the best accuracy for our NB model.\n",
        "\n",
        "To compare this optimization against the binarization = 0, We will run a simulation of that:"
      ],
      "metadata": {
        "id": "Cbdv3FOzHr8v"
      }
    },
    {
      "cell_type": "code",
      "source": [
        "acc = []\n",
        "for threshold in range(0,255,5):\n",
        "  nb_model = BernoulliNB(binarize = threshold)\n",
        "  nb_model.fit(x_train,y_train)\n",
        "  pred = nb_model.predict(x_test)\n",
        "  acc.append(accuracy_score(y_test, pred))\n",
        "nb_model = BernoulliNB(binarize = np.argmax(acc)*5)\n",
        "nb_model.fit(x_train,y_train)\n",
        "pred = nb_model.predict(x_test)\n",
        "\n"
      ],
      "metadata": {
        "id": "hOqRTkT-HadK"
      },
      "execution_count": 35,
      "outputs": []
    },
    {
      "cell_type": "code",
      "source": [
        "print(f'Accuracy with the best threshold : {accuracy_score(y_test, pred)} better than 0.8413')\n",
        "print(f'Best binarization threshold : {np.argmax(acc)*5} better than threshold=0')"
      ],
      "metadata": {
        "colab": {
          "base_uri": "https://localhost:8080/"
        },
        "id": "fJLjc3R9gZll",
        "outputId": "7a22f2d9-2c6d-4fa0-83b7-8020ad39eb55"
      },
      "execution_count": 37,
      "outputs": [
        {
          "output_type": "stream",
          "name": "stdout",
          "text": [
            "Accuracy with the best threshold : 0.8463 better than 0.8413\n",
            "Best binarization threshold : 115 better than threshold=0\n"
          ]
        }
      ]
    },
    {
      "cell_type": "markdown",
      "source": [
        "As we can see we recieve best accuracy score with a binarization parameter = 115.\n",
        "Improvment of 0.49%."
      ],
      "metadata": {
        "id": "MbK9Ys52OMnt"
      }
    },
    {
      "cell_type": "markdown",
      "metadata": {
        "id": "lKSgnectrTJ1"
      },
      "source": [
        "## 2. Classifing Text Documents using Multinomial Naive Bayes\n",
        "In this exercise you will classify the \"20 newsgroups\" data set using your own naive bayes classifier and compare to the scikit learn built in version.\n",
        "\n",
        "The 20 newsgroups dataset comprises around 18000 newsgroups posts on 20 topics split in two subsets: one for training (or development) and the other one for testing (or for performance evaluation). The split between the train and test set is based upon messages posted before and after a specific date.\n",
        "\n",
        "### You task\n",
        "Implement the barebone class provided: `NaiveBayes(BaseEstimator, ClassifierMixin)` and implement its `fit`, `predict` and `predict_proba` methods.\n",
        "\n",
        "Then follow next anlysis guidlinnes using the implemented class for train and test classifier:\n",
        "* Load the **train** data using `from sklearn.datasets import fetch_20newsgroups`. remove headers, footers and quotes (see documentation)\n",
        "* Use `sklearn.feature_extraction.text import CountVectorizer` to count words (stop_words='english')\n",
        "* use `sklearn.pipeline.make_pipeline` to chain the vectroizer and model.\n",
        "* note: limit the vocuabolary size if you suffer memory issues\n",
        "* compare the accuracy over the **test** data. You can use `accuracy_score, classification_report`\n",
        "* compare to the built in `sklearn.naive_bayes.MultinomialNB`\n",
        "* compare to `TfidfVectorizer` preprocessing (you can use the built in model for doing the analysis)\n",
        "* plot the learning curve - is the model in the bias or variance regime (you can use the built in model for doing the analysis)\n",
        "* optimize performance in respect to vectorizer hyper parameters (e.g. max_features, max_df etc.).\n"
      ]
    },
    {
      "cell_type": "code",
      "source": [
        "from sklearn.datasets import fetch_20newsgroups"
      ],
      "metadata": {
        "id": "LhXAKiz6UpQi"
      },
      "execution_count": 38,
      "outputs": []
    },
    {
      "cell_type": "code",
      "source": [
        "#Downloading data\n",
        "data_train = fetch_20newsgroups(subset=\"train\", remove = ('headers', 'footers', 'quotes'))\n",
        "data_test = fetch_20newsgroups(subset=\"test\", remove = ('headers', 'footers', 'quotes'))\n",
        "\n",
        "#split to train data\n",
        "x_train = data_train.data\n",
        "y_train = data_train.target\n",
        "\n",
        "#split to test data\n",
        "x_test = data_test.data\n",
        "y_test = data_test.target"
      ],
      "metadata": {
        "id": "jYMaZvpsUoiP"
      },
      "execution_count": 39,
      "outputs": []
    },
    {
      "cell_type": "markdown",
      "source": [
        "**Naive Bayes implemantaion:**"
      ],
      "metadata": {
        "id": "jSSNKoa_oE-o"
      }
    },
    {
      "cell_type": "code",
      "metadata": {
        "id": "FEbVc4Ixxe6L"
      },
      "source": [
        "from sklearn.base import BaseEstimator, ClassifierMixin\n",
        "\n",
        "\n",
        "class NaiveBayes(BaseEstimator, ClassifierMixin):\n",
        "\n",
        "\n",
        "  def fit(self, x, y):\n",
        "    #P(c)\n",
        "    self.prior = np.bincount(y) / len(y)\n",
        "\n",
        "    #P(x|c)\n",
        "    self.voc = x.shape[1] #corpus size\n",
        "    posts_num = x.shape[0] # count of documents in x\n",
        "    labels_num = len(self.prior)\n",
        "    self.labels = {}\n",
        "    posts_arr = x.toarray()\n",
        "\n",
        "    for i in range(posts_num):\n",
        "      label = y[i] \n",
        "      post = posts_arr[i]  \n",
        "\n",
        "      if label not in self.labels.keys():\n",
        "        self.labels[label] = [0, np.zeros(self.voc)]\n",
        "  \n",
        "      for word in range(self.voc):  \n",
        "        self.labels[label][0] += post[word] # counting number of words in the class\n",
        "        self.labels[label][1][word] += post[word] # counting number of occurances for each word in the class\n",
        "\n",
        "    self.proba = {}\n",
        "    #calculating P(x|c)\n",
        "    for key in range(labels_num):\n",
        "      self.proba[str(key)] = (self.labels[key][1] + 1) / (self.labels[key][0] + self.voc)\n",
        "\n",
        "  def predict_log_proba(self, x):\n",
        "\n",
        "      prs = []\n",
        "      posts_num = x.shape[0] # count of documents in x\n",
        "\n",
        "      # Calculating log probability for each class \n",
        "      for i in range(posts_num):\n",
        "        log_pr = np.zeros(len(self.prior))\n",
        "        for lbl in range(len(self.prior)):\n",
        "          lbl_prior = self.prior[lbl]\n",
        "          label_mult = np.power(self.proba[str(lbl)], x[i])\n",
        "          log_pr[lbl] = np.log(lbl_prior) + np.sum(np.log(label_mult[label_mult != 0]))\n",
        "        prs.append(log_pr)\n",
        "\n",
        "      return prs\n",
        "\n",
        "  def predict(self, x):\n",
        "      prs = self.predict_log_proba(x.toarray())\n",
        "      y_pred = []\n",
        "      for i in range(x.shape[0]):\n",
        "        y_pred.append(np.argmax(prs[i]))\n",
        "\n",
        "      return y_pred\n",
        "\n",
        "  \n",
        "  "
      ],
      "execution_count": 41,
      "outputs": []
    },
    {
      "cell_type": "markdown",
      "source": [
        "**Explanation for the model:**\n",
        "\n",
        "We implemented Naive Bayes Model from beggining.\n",
        "\n",
        "We implemented the function fit , predict_log_proba and predict.\n",
        "\n",
        "In the fit function we calcualted P(Wi/C) and P(C). We used the formula of \n",
        " \n",
        "P(Wi/C) = (count(wi,c)+1)/(count(c)+|V|) where count(w,c) is the count of apperances of a word in a specific class.\n",
        "\n",
        "count(c) - total number of words in class.\n",
        "\n",
        "|V| - size of vocaublary.\n",
        "\n",
        "We also calcualted P(C) = (# of words in the class)/(# of total words)\n",
        "for the probability of a class in th data.\n",
        "\n",
        "We implement the predict_log_proba by calculating the probabilty of words given the class in the document - P(W1,W2,...Wn/C)\n",
        "for each class, P(W1/C) * P(W2/C) * P(W3/C) * ... * P(Wn/C)\n",
        "\n",
        "we calculated the log probabilty beacuse we get better results by doing it and it was explained.\n",
        "\n",
        "We implement the predict function where we calculated the predicted class by doing for each class his probability and taking the class that has the highest probabilty."
      ],
      "metadata": {
        "id": "M_MNhf-ChfjP"
      }
    },
    {
      "cell_type": "markdown",
      "source": [
        "**Applying our model**"
      ],
      "metadata": {
        "id": "8tmfjIn2PRRN"
      }
    },
    {
      "cell_type": "code",
      "source": [
        "from sklearn.pipeline import make_pipeline\n",
        "from sklearn.feature_extraction.text import CountVectorizer \n",
        "\n",
        "pipe = make_pipeline(CountVectorizer(stop_words='english', max_features= 3000), NaiveBayes())\n",
        "\n",
        "#Fit\n",
        "pipe.fit(x_train, y_train)\n",
        "\n",
        "#Predict\n",
        "y_pred = pipe.predict(x_test)"
      ],
      "metadata": {
        "id": "nPVQ8-nKL5XQ"
      },
      "execution_count": 42,
      "outputs": []
    },
    {
      "cell_type": "markdown",
      "source": [
        "Calculating the Accuracy of our model"
      ],
      "metadata": {
        "id": "pg5v57ATPW0a"
      }
    },
    {
      "cell_type": "code",
      "source": [
        "#Accuracy\n",
        "acc = accuracy_score(y_test, y_pred)\n",
        "print('The Accuracy score is: ' + str(acc))\n",
        "print(\"classification report:\")\n",
        "print(classification_report(y_test, y_pred))"
      ],
      "metadata": {
        "colab": {
          "base_uri": "https://localhost:8080/"
        },
        "id": "iETyaewBO-Y7",
        "outputId": "08c831cd-c69e-4ed7-cee1-0d6b8bd52cb4"
      },
      "execution_count": 43,
      "outputs": [
        {
          "output_type": "stream",
          "name": "stdout",
          "text": [
            "The Accuracy score is: 0.5569569835369091\n",
            "classification report:\n",
            "              precision    recall  f1-score   support\n",
            "\n",
            "           0       0.37      0.47      0.41       319\n",
            "           1       0.46      0.64      0.54       389\n",
            "           2       0.50      0.00      0.01       394\n",
            "           3       0.45      0.60      0.51       392\n",
            "           4       0.51      0.60      0.55       385\n",
            "           5       0.68      0.62      0.65       395\n",
            "           6       0.74      0.72      0.73       390\n",
            "           7       0.59      0.67      0.63       396\n",
            "           8       0.60      0.67      0.63       398\n",
            "           9       0.63      0.73      0.68       397\n",
            "          10       0.46      0.60      0.52       399\n",
            "          11       0.79      0.61      0.69       396\n",
            "          12       0.51      0.49      0.50       393\n",
            "          13       0.69      0.60      0.64       396\n",
            "          14       0.74      0.57      0.64       394\n",
            "          15       0.53      0.65      0.59       398\n",
            "          16       0.52      0.54      0.53       364\n",
            "          17       0.76      0.66      0.71       376\n",
            "          18       0.40      0.31      0.35       310\n",
            "          19       0.22      0.20      0.21       251\n",
            "\n",
            "    accuracy                           0.56      7532\n",
            "   macro avg       0.56      0.55      0.53      7532\n",
            "weighted avg       0.57      0.56      0.54      7532\n",
            "\n"
          ]
        }
      ]
    },
    {
      "cell_type": "markdown",
      "source": [
        "**Comparing our model to Multinomial Naive Bayes**"
      ],
      "metadata": {
        "id": "lcL6tMFGPeNQ"
      }
    },
    {
      "cell_type": "code",
      "source": [
        "from sklearn.naive_bayes import MultinomialNB"
      ],
      "metadata": {
        "id": "q-OXUbtzUL0J"
      },
      "execution_count": 44,
      "outputs": []
    },
    {
      "cell_type": "code",
      "source": [
        "\n",
        "pipe = make_pipeline(CountVectorizer(stop_words='english', max_features= 3000), MultinomialNB())\n",
        "\n",
        "#Fit\n",
        "pipe.fit(x_train, y_train)\n",
        "\n",
        "#Predict\n",
        "y_pred = pipe.predict(x_test)"
      ],
      "metadata": {
        "id": "VP8Vg1gvPNin"
      },
      "execution_count": 45,
      "outputs": []
    },
    {
      "cell_type": "markdown",
      "source": [
        "Calculating the Accuracy of Multinomial Naive Bayes model"
      ],
      "metadata": {
        "id": "oYMRPgxjQbRM"
      }
    },
    {
      "cell_type": "code",
      "source": [
        "#Accuracy\n",
        "acc = accuracy_score(y_test, y_pred)\n",
        "print('The Accuracy score is: ' + str(acc))"
      ],
      "metadata": {
        "colab": {
          "base_uri": "https://localhost:8080/"
        },
        "id": "_ZsMFIr-QQvo",
        "outputId": "fe11b154-e49e-4c3b-e6ed-44f881af7c5f"
      },
      "execution_count": 46,
      "outputs": [
        {
          "output_type": "stream",
          "name": "stdout",
          "text": [
            "The Accuracy score is: 0.5574880509824748\n"
          ]
        }
      ]
    },
    {
      "cell_type": "markdown",
      "source": [
        "As we can see while running the two models with the CounterVectorizer we recieved almost the same results of accuracy. Our model recieved accuracy level of 55.74%."
      ],
      "metadata": {
        "id": "d_MOf_EofrG0"
      }
    },
    {
      "cell_type": "markdown",
      "source": [
        "**Applying our model but now with TfidfVectorizer**"
      ],
      "metadata": {
        "id": "PVRReRhGQ0ao"
      }
    },
    {
      "cell_type": "code",
      "source": [
        "from sklearn.feature_extraction.text import TfidfVectorizer "
      ],
      "metadata": {
        "id": "zHVv0VGPUE0Z"
      },
      "execution_count": 47,
      "outputs": []
    },
    {
      "cell_type": "code",
      "source": [
        "\n",
        "pipe = make_pipeline(TfidfVectorizer(stop_words='english', max_features= 3000), NaiveBayes())\n",
        "\n",
        "#Fit\n",
        "pipe.fit(x_train, y_train)\n",
        "\n",
        "#Predict\n",
        "y_pred = pipe.predict(x_test)"
      ],
      "metadata": {
        "id": "nrV_H-ZMRGOV"
      },
      "execution_count": 48,
      "outputs": []
    },
    {
      "cell_type": "markdown",
      "source": [
        "Calculating the Accuracy of our model"
      ],
      "metadata": {
        "id": "Zlf7wP-hRZpq"
      }
    },
    {
      "cell_type": "code",
      "source": [
        "#Accuracy\n",
        "acc = accuracy_score(y_test, y_pred)\n",
        "print('The Accuracy score is: ' + str(acc))"
      ],
      "metadata": {
        "colab": {
          "base_uri": "https://localhost:8080/"
        },
        "id": "elYG74HMRd25",
        "outputId": "3bb6864b-2ac4-4428-b3d9-83d1750a4a17"
      },
      "execution_count": 49,
      "outputs": [
        {
          "output_type": "stream",
          "name": "stdout",
          "text": [
            "The Accuracy score is: 0.6233404142326076\n"
          ]
        }
      ]
    },
    {
      "cell_type": "markdown",
      "source": [
        "**Comparing our model to Multinomial Naive Bayes but now with TfidfVectorizer**"
      ],
      "metadata": {
        "id": "MkcAs_3wRs3p"
      }
    },
    {
      "cell_type": "code",
      "source": [
        "pipe = make_pipeline(TfidfVectorizer(stop_words='english', max_features= 3000), MultinomialNB())\n",
        "\n",
        "#Fit\n",
        "pipe.fit(x_train, y_train)\n",
        "\n",
        "#Predict\n",
        "y_pred = pipe.predict(x_test)"
      ],
      "metadata": {
        "id": "Is13LDzAR1L_"
      },
      "execution_count": 50,
      "outputs": []
    },
    {
      "cell_type": "markdown",
      "source": [
        "Calculating the Accuracy of Multinomial Naive Bayes model"
      ],
      "metadata": {
        "id": "oH074fb4R_pm"
      }
    },
    {
      "cell_type": "code",
      "source": [
        "#Accuracy\n",
        "acc = accuracy_score(y_test, y_pred)\n",
        "print('The Accuracy score is: ' + str(acc))"
      ],
      "metadata": {
        "colab": {
          "base_uri": "https://localhost:8080/"
        },
        "id": "mA3AblgfSAsn",
        "outputId": "223cd711-4082-4e0a-f474-da6ee85781ac"
      },
      "execution_count": 51,
      "outputs": [
        {
          "output_type": "stream",
          "name": "stdout",
          "text": [
            "The Accuracy score is: 0.6233404142326076\n"
          ]
        }
      ]
    },
    {
      "cell_type": "markdown",
      "source": [
        "As we can see while running the two models with the TfidfVectorizer we recieved identical results of accuracy. The two model have an accuracy level of 62.33%."
      ],
      "metadata": {
        "id": "5RukMWZHfY8W"
      }
    },
    {
      "cell_type": "markdown",
      "source": [
        "**Plotting the learning curve**"
      ],
      "metadata": {
        "id": "fixk4d6FTC-m"
      }
    },
    {
      "cell_type": "code",
      "source": [
        "from sklearn.model_selection import learning_curve\n",
        "\n",
        "pipe = make_pipeline(CountVectorizer(stop_words='english', max_features= 3000), NaiveBayes())\n",
        "\n",
        "size, tr_score, tst_score = learning_curve(pipe, x_train, y_train, cv=5, scoring='neg_mean_squared_error', n_jobs=-1, train_sizes=np.linspace(0.1, 1.0, 10))\n",
        "\n",
        "tr_mean = np.mean(tr_score, axis=1)\n",
        "tr_std = np.std(tr_score, axis=1)\n",
        "\n",
        "tst_mean = np.mean(tst_score, axis=1)\n",
        "tst_std = np.std(tst_score, axis=1)"
      ],
      "metadata": {
        "id": "iG1Ar66kTIcT"
      },
      "execution_count": 53,
      "outputs": []
    },
    {
      "cell_type": "code",
      "source": [
        "plt.style.use('seaborn')\n",
        "plt.subplots(1, figsize=(10,10))\n",
        "\n",
        "plt.plot(size, -tst_mean, '--', label=\"Cross validation error\")\n",
        "plt.plot(size, -tr_mean,  label=\"Training error\")\n",
        "\n",
        "plt.fill_between(size, -(tr_mean - tr_std), -(tr_mean + tr_std), alpha=0.4)\n",
        "plt.fill_between(size, -(tst_mean - tst_std), -(tst_mean + tst_std), alpha=0.4)\n",
        "plt.title(\"Learning Curve Plot\", fontsize = 24, y = 1)\n",
        "plt.xlabel(\"Size of the Training Set\", fontsize = 18), plt.ylabel(\"MSE\", fontsize = 18), plt.legend(loc=\"best\")\n",
        "plt.tight_layout()\n",
        "plt.show()"
      ],
      "metadata": {
        "colab": {
          "base_uri": "https://localhost:8080/",
          "height": 729
        },
        "id": "EadWYLnAT3nR",
        "outputId": "8538ddbd-1db7-4251-c07a-53c76b7f7ef8"
      },
      "execution_count": 55,
      "outputs": [
        {
          "output_type": "display_data",
          "data": {
            "text/plain": [
              "<Figure size 720x720 with 1 Axes>"
            ],
            "image/png": "[encoded data removed]"
          },
          "metadata": {}
        }
      ]
    },
    {
      "cell_type": "markdown",
      "source": [
        " *Explanation:* Learning Curve usually refers to a plot of the prediction vs. the training set - we measure how good the model get at predicting the target as you increase the number of instances used to train it and how it effects the model's performance. In order to evaluate the model we trained on more data samples, We expect that the error score of the cross-validation will decrease, the error on the will stay pretty low and the error level of both training and validation sets will get closer to each other, as a result of good bias-variance trade-off. \n",
        "\n",
        "*Analyzes:* From the plot, we can see that our training error is low but at the beggining higher than the error on the cross validation and the distance between the differences of the error values, as we increase the amount of samples in training, get closer. In more samples the error on the cross validation will be higher than the error on the training set. As we can infer, our model fits the data training pretty well and indicates a model that is closer to being overfitting than underfitting. This means we have a low bias and high variance.\n",
        "\n",
        "**In conclusion, We can see that as we train the model on more data samples the cross validation error score decreasing so our model is in the variance regime.**"
      ],
      "metadata": {
        "id": "3uggWOIBZvjT"
      }
    },
    {
      "cell_type": "markdown",
      "source": [
        "**Optimize performance in respect to vectorizer hyper parameters**"
      ],
      "metadata": {
        "id": "g--5-wflZ463"
      }
    },
    {
      "cell_type": "code",
      "source": [
        "pipe = make_pipeline(CountVectorizer(stop_words='english',max_features= 3000, max_df= 400), NaiveBayes())\n",
        "\n",
        "#Fit\n",
        "pipe.fit(x_train, y_train)\n",
        "\n",
        "#Predict\n",
        "y_pred = pipe.predict(x_test)"
      ],
      "metadata": {
        "id": "lxALup1nZ4N8"
      },
      "execution_count": null,
      "outputs": []
    },
    {
      "cell_type": "code",
      "source": [
        "#Accuracy\n",
        "acc = accuracy_score(y_test, y_pred)\n",
        "print('The Accuracy score is: ' + str(acc))"
      ],
      "metadata": {
        "colab": {
          "base_uri": "https://localhost:8080/"
        },
        "id": "JzEwz_1zaUqv",
        "outputId": "374ebc23-2a5d-4890-a5ea-cc62b3dd488e"
      },
      "execution_count": null,
      "outputs": [
        {
          "output_type": "stream",
          "name": "stdout",
          "text": [
            "The Accuracy score is: 0.5716941051513542\n"
          ]
        }
      ]
    },
    {
      "cell_type": "markdown",
      "source": [
        "We can see that when we limited the max_df to 400 we get an Accuracy score of 0.5716(57.16%), about 1.5% more accurate than without limiting the max_df(55.69%)\n"
      ],
      "metadata": {
        "id": "ktImJIPuaj5y"
      }
    },
    {
      "cell_type": "markdown",
      "metadata": {
        "id": "d1S_v22_vDCs"
      },
      "source": [
        "#### Model interpretability\n",
        "Find the most important features for a **specific** decision of a NB classifier.\n",
        "Because the model has learned the prior $p(x_i|c)$ during the training, the contribution of an individual feature value can be easily measured by the posterior, $p(c|x_i)=p(c)p(x_i|c)/p(x_i)$\n",
        "Implement a function which gets a scikit-learn NB model as input and returns $P(c|x_i)$:\n",
        "\n",
        "`def calc_p_c_given_xi(model)`\n",
        "\n",
        "Hint: Use the following model properties:\n",
        "\n",
        "* `model.class_log_prior_`\n",
        "* `model.feature_log_prob_`\n",
        "\n",
        "Note: remember these are logs and you need to use np.exp and normalize to get $P(c|x_i)$ \n",
        "Another hint: use numpy built-in broadcasting property.\n",
        "\n",
        "* Use the interpretation to examine errors of the classifier where $\\hat{c}\\ne c$. Which top words support the correct class and which support the wrong class? You can use the `print_txt` below to color words."
      ]
    },
    {
      "cell_type": "code",
      "metadata": {
        "id": "WrTOhkHV9msW",
        "colab": {
          "base_uri": "https://localhost:8080/"
        },
        "outputId": "c0fa72be-5f34-46a2-dde3-17dba05e5082"
      },
      "source": [
        "import string\n",
        "def print_txt(txt, hot, cold):\n",
        "  \"\"\"\n",
        "  print the text, coloring hot and cold words with colors\n",
        "  \"\"\"\n",
        "  cold_color='\\x1b[41;37m{}\\x1b[0m'\n",
        "  hot_color='\\x1b[42;37m{}\\x1b[0m'\n",
        "  mid_color='\\x1b[45;37m{}\\x1b[0m'\n",
        "  def color(token):\n",
        "    lower = str(token).lower()\n",
        "    lower = lower.replace('\\t','').replace('\\n','')\n",
        "    lower = lower.translate(string.punctuation)\n",
        "    if (lower in hot) and (lower in cold):\n",
        "      return mid_color.format(token)\n",
        "    elif lower in hot:\n",
        "      return hot_color.format(token)\n",
        "    elif lower in cold:\n",
        "      return cold_color.format(token)\n",
        "    else:\n",
        "      return token\n",
        "  colored_txt = \" \".join([color(token) for token in txt.split(' ')])\n",
        "  print(colored_txt)\n",
        "print_txt('This word support the first class but this the other', ['word'],['other'])"
      ],
      "execution_count": null,
      "outputs": [
        {
          "output_type": "stream",
          "name": "stdout",
          "text": [
            "This \u001b[42;37mword\u001b[0m support the first class but this the \u001b[41;37mother\u001b[0m\n"
          ]
        }
      ]
    },
    {
      "cell_type": "code",
      "metadata": {
        "id": "9Vz_BLhZwI9U"
      },
      "source": [
        "# Implementationn goes here\n",
        "def calc_p_c_given_xi(model):\n",
        "  prior = np.exp(model.class_log_prior_) #P(c)\n",
        "  prob = np.exp(model.feature_log_prob_) #P(xi|c)\n",
        "\n",
        "  px = np.sum(np.multiply(prior,prob.T)) #P(x)\n",
        "\n",
        "  ret = []\n",
        "  for i in range(len(prior)):\n",
        "      ret.append(prior[i]*prob[i]/px)\n",
        "\n",
        "  return ret"
      ],
      "execution_count": null,
      "outputs": []
    },
    {
      "cell_type": "code",
      "source": [
        "pipe = make_pipeline(TfidfVectorizer(stop_words='english', max_features= 3000), MultinomialNB())\n",
        "pipe.fit(x_train, y_train)\n",
        "\n",
        "model = pipe.get_params()['multinomialnb']\n",
        "features = pipe.get_params()['tfidfvectorizer'].get_feature_names_out()\n",
        "\n",
        "prs = calc_p_c_given_xi(model)\n",
        "\n",
        "limits_lst = []\n",
        "for pr in prs:\n",
        "  limits_lst.append(np.average(pr))\n",
        "\n",
        "limit = np.average(limits_lst)\n",
        "\n",
        "hot, cold = [], []\n",
        "\n",
        "for x in range(len(prs)):\n",
        "  for y in range(len(prs[x])):\n",
        "    if prs[x][y] > limit:\n",
        "      if features[y] not in hot:\n",
        "        hot.append(features[y])\n",
        "    else:\n",
        "      if features[y] not in cold:\n",
        "        cold.append(features[y])"
      ],
      "metadata": {
        "id": "bZZeCjw_RziD"
      },
      "execution_count": null,
      "outputs": []
    },
    {
      "cell_type": "code",
      "source": [
        "print_txt(x_train[1], hot, cold)"
      ],
      "metadata": {
        "colab": {
          "base_uri": "https://localhost:8080/"
        },
        "id": "Q50wphsoXsMb",
        "outputId": "620329be-d03e-40b0-8292-3ac9e69e8416"
      },
      "execution_count": null,
      "outputs": [
        {
          "output_type": "stream",
          "name": "stdout",
          "text": [
            "A \u001b[45;37mfair\u001b[0m \u001b[42;37mnumber\u001b[0m of brave souls who upgraded their \u001b[45;37mSI\u001b[0m \u001b[45;37mclock\u001b[0m oscillator have\n",
            "shared their \u001b[45;37mexperiences\u001b[0m for this poll. Please \u001b[45;37msend\u001b[0m a brief \u001b[45;37mmessage\u001b[0m detailing\n",
            "your \u001b[45;37mexperiences\u001b[0m with the procedure. Top \u001b[45;37mspeed\u001b[0m attained, \u001b[45;37mCPU\u001b[0m rated speed,\n",
            "add on \u001b[45;37mcards\u001b[0m and adapters, \u001b[45;37mheat\u001b[0m sinks, \u001b[45;37mhour\u001b[0m of \u001b[41;37musage\u001b[0m per day, \u001b[45;37mfloppy\u001b[0m disk\n",
            "functionality with \u001b[45;37m800\u001b[0m and 1.4 m floppies are \u001b[45;37mespecially\u001b[0m requested.\n",
            "\n",
            "I will be summarizing in the next two days, so please \u001b[45;37madd\u001b[0m to the network\n",
            "knowledge \u001b[45;37mbase\u001b[0m if you have done the \u001b[45;37mclock\u001b[0m \u001b[45;37mupgrade\u001b[0m and haven't \u001b[45;37manswered\u001b[0m this\n",
            "poll. Thanks.\n"
          ]
        }
      ]
    },
    {
      "cell_type": "markdown",
      "source": [
        "When we use our methods, we get the affect by the probability of each word in each document. We classify by a mean threshold of all the probabilities of all documents, that we can classify for hot and cold words. (less than threshold is cold and bigger threshold is hot)."
      ],
      "metadata": {
        "id": "SEOyuRPuUIgP"
      }
    },
    {
      "cell_type": "markdown",
      "metadata": {
        "id": "kww6g1jGv_Fw"
      },
      "source": [
        "#### Think and describe:\n",
        "#### How can you correct the analyzed error?\n",
        "\n",
        "To read more about model interpretation, see the blogpost below and the tutorial:\n",
        "* https://lilianweng.github.io/lil-log/2017/08/01/how-to-explain-the-prediction-of-a-machine-learning-model.html\n",
        "* https://github.com/chanansh/right_but_why"
      ]
    },
    {
      "cell_type": "markdown",
      "metadata": {
        "id": "K4QrAGdiwD6f"
      },
      "source": [
        "***Answer:***\n",
        "\n",
        "There are several ways we can correct the analyzed error after running it. \n",
        "\n",
        "In Regression, The coefficients are not comparable directly unless the features have been standardized, since one unit of different features can refer to very different things. \n",
        "\n",
        "In Naive Bayes, instead of giving the model to learn the prior P(Xi/C) during the training, the contribution of an individual feature value can be easily measured by the posterior, P(C/Xi) = P(Xi/C)*P(C)/P(X) and choose only features that are affecting our model more than others.\n",
        "\n",
        "In Random Forest, because the decision paths in all the trees are well tracked, we can use the difference between the mean value of data points in a parent node between that of a child node to approximate the contribution of this split.\n",
        "\n",
        "Also, We can try to collect more data to get a bigger sample size for a better accuracy or we can try add more hyper parameters parameters for the model and try to see if the new model gets better results, in order to affect the variance - bias tradeoff by tuning the paramethers of the model.\n"
      ]
    }
  ]
}